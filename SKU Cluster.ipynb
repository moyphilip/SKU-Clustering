{
 "cells": [
  {
   "cell_type": "heading",
   "metadata": {},
   "level": 1,
   "source": [
    "eCommerce Item Clustering with Python"
   ]
  },
  {
   "cell_type": "heading",
   "metadata": {},
   "level": 3,
   "source": [
    "In this notebook I will attempt to cluster eCommerce item data by their names. The type of item data is from an outdoor apparel brand's catalog. I want to be able to use the descriptions to find similar items and group them together. For example, if it's a t-shirt it should belong in the t-shirt group.\n",
    "\n",
    "The steps to accomplish this goal will be:\n",
    "1) Cleaning the data to just include the name (pandas)\n",
    "2) Transform the corpus into vector space using tf-idf (Sci Kit)\n",
    "3) Calculating cosine distance between each document as a measure of similarity\n",
    "4) Cluster the documents with k-means (Sci Kit)\n",
    "5) Use MDS to reduce the dimension\n",
    "6) Plot the clusters (matplotlib)\n",
    "\n",
    "\n",
    "The dataset consists of 500 actual SKUs from an outdoor apparel brand's product catalog downloaded from Kaggle (https://www.kaggle.com/cclark/product-item-data). \n"
   ]
  },
  {
   "cell_type": "heading",
   "metadata": {},
   "level": 2,
   "source": [
    "Cleaning the data"
   ]
  },
  {
   "cell_type": "code",
   "execution_count": 2,
   "metadata": {
    "collapsed": false
   },
   "outputs": [],
   "source": [
    "# import the necessary packages for cleaning the data\n",
    "import os\n",
    "import pandas as pd\n",
    "import re\n",
    "import numpy as np\n",
    "\n",
    "# read the data\n",
    "df = pd.read_csv('sample-data.csv')"
   ]
  },
  {
   "cell_type": "code",
   "execution_count": 3,
   "metadata": {
    "collapsed": false
   },
   "outputs": [
    {
     "name": "stdout",
     "output_type": "stream",
     "text": [
      "   id                                        description\n0   1  Active classic boxers - There's a reason why o...\n1   2  Active sport boxer briefs - Skinning up Glory ...\n2   3  Active sport briefs - These superbreathable no...\n3   4  Alpine guide pants - Skin in, climb ice, switc...\n4   5  Alpine wind jkt - On high ridges, steep ice an...\n"
     ]
    }
   ],
   "source": [
    "# A quick look at the data. There are 2 columns, id and description. \n",
    "print df.head()"
   ]
  },
  {
   "cell_type": "code",
   "execution_count": 4,
   "metadata": {},
   "outputs": [
    {
     "name": "stdout",
     "output_type": "stream",
     "text": [
      "Ascensionist jkt - Our most technical soft shell for full-on mountain pursuits strikes the alpinist's balance between protection and minimalism. The dense 2-way-stretch polyester double weave, with stitchless seams, has exceptional water- and wind-resistance, a rapid dry time and superb breathability. Pared-down detailing provides everything you need and nothing more: a 3-way-adjustable, helmet-compatible hood; a reverse-coil center-front zipper with a DWR (durable water repellent) finish; large external handwarmer pockets (with zipper garages) that are placed above the harness-line; an internal security pocket; articulated arms; self-fabic cuff tabs; a drawcord hem. Recyclable through the Common Threads Recycling Program.<br><br><b>Details:</b><ul> <li>\"Dense stretchy polyester double-weave fabric is exceptionally water- and wind-resistant and is spandex-free for fast dry times; Stitch-free, lap-glued seams speed dry time, improve water resistance and decrease bulk\"</li> <li>\"Helmet-compatible, 3-way-adjustable hood;  brushed chamois patches for chin and neck comfort\"</li> <li>DWR-(durable water repellent) finished center-front zipper; external pockets: two handwarmers fit skins and have zipper garages and DWR finish on zippers</li> <li>Internal security pocket</li> <li>Articulated arms</li> <li>\"Low-profile, laminated, self-fabric cuff tabs\"</li> <li>Drawcord hem</li></ul><br><br><b>Fabric: </b>5.3-oz 100% polyester (45% recycled) double weave with 2-way-stretch and Deluge DWR finish. Recyclable through the Common Threads Recycling Program<br><br><b>Weight: </b>(553 g 19.2 oz)<br><br>Made in China.\n"
     ]
    }
   ],
   "source": [
    "# Let's take a closer look at the description and what it has. It starts off with the name then a long description then ending with material detail.\n",
    "# I am only interested in the name for this project so I will separate it out.\n",
    "print df['description'][5]"
   ]
  },
  {
   "cell_type": "code",
   "execution_count": 5,
   "metadata": {
    "collapsed": true
   },
   "outputs": [],
   "source": [
    "# slices the description returning only the name\n",
    "def split_description(string):\n",
    "    # name\n",
    "    string_split = string.split(' - ',1)\n",
    "    name = string_split[0]\n",
    "    \n",
    "    return name"
   ]
  },
  {
   "cell_type": "code",
   "execution_count": 22,
   "metadata": {
    "collapsed": true
   },
   "outputs": [],
   "source": [
    "# let's put the clean data into a new data frame\n",
    "df_new = pd.DataFrame()\n",
    "df_new['name'] = df.loc[:,'description'].apply(lambda x: split_description(x))\n",
    "df_new['id'] = df['id']"
   ]
  },
  {
   "cell_type": "code",
   "execution_count": 40,
   "metadata": {
    "collapsed": true
   },
   "outputs": [],
   "source": [
    "# remove numbers and extra spaces from the name\n",
    "def remove(name):\n",
    "    new_name = re.sub(\"[0-9]\", '', name)\n",
    "    new_name = ' '.join(new_name.split())\n",
    "    return new_name"
   ]
  },
  {
   "cell_type": "code",
   "execution_count": 44,
   "metadata": {},
   "outputs": [],
   "source": [
    "# let's remove the numbers and extra spaces from the name\n",
    "df_new['name'] = df_new.loc[:,'name'].apply(lambda x: remove(x))"
   ]
  },
  {
   "cell_type": "code",
   "execution_count": 45,
   "metadata": {},
   "outputs": [
    {
     "data": {
      "text/html": [
       "<div>\n",
       "<table border=\"1\" class=\"dataframe\">\n",
       "  <thead>\n",
       "    <tr style=\"text-align: right;\">\n",
       "      <th></th>\n",
       "      <th>name</th>\n",
       "      <th>id</th>\n",
       "    </tr>\n",
       "  </thead>\n",
       "  <tbody>\n",
       "    <tr>\n",
       "      <th>0</th>\n",
       "      <td>Active classic boxers</td>\n",
       "      <td>1</td>\n",
       "    </tr>\n",
       "    <tr>\n",
       "      <th>1</th>\n",
       "      <td>Active sport boxer briefs</td>\n",
       "      <td>2</td>\n",
       "    </tr>\n",
       "    <tr>\n",
       "      <th>2</th>\n",
       "      <td>Active sport briefs</td>\n",
       "      <td>3</td>\n",
       "    </tr>\n",
       "    <tr>\n",
       "      <th>3</th>\n",
       "      <td>Alpine guide pants</td>\n",
       "      <td>4</td>\n",
       "    </tr>\n",
       "    <tr>\n",
       "      <th>4</th>\n",
       "      <td>Alpine wind jkt</td>\n",
       "      <td>5</td>\n",
       "    </tr>\n",
       "  </tbody>\n",
       "</table>\n",
       "</div>"
      ],
      "text/plain": [
       "<div>\n",
       "<table border=\"1\" class=\"dataframe\">\n",
       "  <thead>\n",
       "    <tr style=\"text-align: right;\">\n",
       "      <th></th>\n",
       "      <th>name</th>\n",
       "      <th>id</th>\n",
       "    </tr>\n",
       "  </thead>\n",
       "  <tbody>\n",
       "    <tr>\n",
       "      <th>0</th>\n",
       "      <td>Active classic boxers</td>\n",
       "      <td>1</td>\n",
       "    </tr>\n",
       "    <tr>\n",
       "      <th>1</th>\n",
       "      <td>Active sport boxer briefs</td>\n",
       "      <td>2</td>\n",
       "    </tr>\n",
       "    <tr>\n",
       "      <th>2</th>\n",
       "      <td>Active sport briefs</td>\n",
       "      <td>3</td>\n",
       "    </tr>\n",
       "    <tr>\n",
       "      <th>3</th>\n",
       "      <td>Alpine guide pants</td>\n",
       "      <td>4</td>\n",
       "    </tr>\n",
       "    <tr>\n",
       "      <th>4</th>\n",
       "      <td>Alpine wind jkt</td>\n",
       "      <td>5</td>\n",
       "    </tr>\n",
       "  </tbody>\n",
       "</table>\n",
       "</div>"
      ]
     },
     "execution_count": 45,
     "metadata": {},
     "output_type": "execute_result"
    }
   ],
   "source": [
    "# now the data is all nice and clean\n",
    "df_new.head()"
   ]
  },
  {
   "cell_type": "code",
   "execution_count": 115,
   "metadata": {
    "collapsed": false
   },
   "outputs": [
    {
     "name": "stdout",
     "output_type": "stream",
     "text": [
      "CPU times: user 9.95 ms, sys: 2.55 ms, total: 12.5 ms\nWall time: 10.3 ms\n(500, 5)\n"
     ]
    }
   ],
   "source": [
    "# use only name to cluster\n",
    "from sklearn.feature_extraction.text import TfidfVectorizer\n",
    "#define vectorizer parameters\n",
    "\n",
    "tfidf_vectorizer = TfidfVectorizer(\n",
    "                                   use_idf=True,\n",
    "                                   stop_words = 'english',\n",
    "                                   ngram_range=(1,4), min_df = .05)\n",
    "\n",
    "%time tfidf_matrix = tfidf_vectorizer.fit_transform(df_new['name'])\n",
    "\n",
    "print(tfidf_matrix.shape)"
   ]
  },
  {
   "cell_type": "code",
   "execution_count": 116,
   "metadata": {},
   "outputs": [
    {
     "data": {
      "text/plain": [
       "[u'cap', u'jkt', u'pants', u'shirt', u'shorts']"
      ]
     },
     "execution_count": 116,
     "metadata": {},
     "output_type": "execute_result"
    }
   ],
   "source": [
    "tfidf_vectorizer.get_feature_names()"
   ]
  },
  {
   "cell_type": "code",
   "execution_count": 117,
   "metadata": {
    "collapsed": false
   },
   "outputs": [
    {
     "name": "stdout",
     "output_type": "stream",
     "text": [
      "cap\njkt\nshorts\npants\njkt\nshirt\ncap\ncap\npants\ncap\n"
     ]
    }
   ],
   "source": [
    "# take a look at random features\n",
    "import random\n",
    "features = tfidf_vectorizer.get_feature_names()\n",
    "for i in range(0,10):\n",
    "    print features[random.randint(0,len(features))]"
   ]
  },
  {
   "cell_type": "code",
   "execution_count": 118,
   "metadata": {},
   "outputs": [
    {
     "name": "stdout",
     "output_type": "stream",
     "text": [
      "[[ 1.  1.  1. ...,  1.  1.  1.]\n [ 1.  1.  1. ...,  1.  1.  1.]\n [ 1.  1.  1. ...,  1.  1.  1.]\n ..., \n [ 1.  1.  1. ...,  1.  1.  1.]\n [ 1.  1.  1. ...,  1.  0.  0.]\n [ 1.  1.  1. ...,  1.  0.  0.]]\n"
     ]
    }
   ],
   "source": [
    "# cosine similarity between each document\n",
    "from sklearn.metrics.pairwise import cosine_similarity\n",
    "dist = 1 - cosine_similarity(tfidf_matrix)\n",
    "print dist"
   ]
  },
  {
   "cell_type": "code",
   "execution_count": 119,
   "metadata": {},
   "outputs": [
    {
     "name": "stdout",
     "output_type": "stream",
     "text": [
      "CPU times: user 35.5 s, sys: 41.5 ms, total: 35.6 s\nWall time: 35.6 s\n"
     ]
    }
   ],
   "source": [
    "# fit kmeans with a range of clusters from 5 to 100. \n",
    "from sklearn.cluster import KMeans\n",
    "num_clusters = range(5,100) # a range of clusters from 5 to 100\n",
    "\n",
    "%time KM = [KMeans(n_clusters=k, random_state = 1).fit(tfidf_matrix) for k in num_clusters] #train on tdidf matrix"
   ]
  },
  {
   "cell_type": "code",
   "execution_count": 120,
   "metadata": {},
   "outputs": [
    {
     "data": {
      "image/png": "[encoded data removed]",
      "text/plain": [
       "<matplotlib.figure.Figure at 0x109f72150>"
      ]
     },
     "metadata": {},
     "output_type": "display_data"
    }
   ],
   "source": [
    "# let's plot the within cluster sum of squares for each cluster # to see which k we should choose\n",
    "import matplotlib.pyplot as plt\n",
    "%matplotlib inline\n",
    "# plot the within cluster sum of squares\n",
    "with_in_cluster = [KM[k].inertia_ for k in range(0,len(num_clusters))]\n",
    "plt.plot(num_clusters, with_in_cluster)\n",
    "plt.ylim(min(with_in_cluster)-1000, max(with_in_cluster)+1000)\n",
    "plt.ylabel('with-in cluster sum of squares')\n",
    "plt.xlabel('# of clusters')\n",
    "plt.title('kmeans within ss for k value')\n",
    "plt.show()\n",
    "\n",
    "# plot the within cluster sum of squares and there doesnt seem to be much change from 5 to 100."
   ]
  },
  {
   "cell_type": "code",
   "execution_count": 121,
   "metadata": {},
   "outputs": [
    {
     "data": {
      "text/plain": [
       "0    266\n1     99\n2     46\n4     45\n3     44\ndtype: int64"
      ]
     },
     "execution_count": 121,
     "metadata": {},
     "output_type": "execute_result"
    }
   ],
   "source": [
    "# clusters of KM[0] to list\n",
    "clusters = KM[0].labels_.tolist()\n",
    "# add cluster to df_new\n",
    "df_new['cluster'] = clusters\n",
    "# number of items per cluster\n",
    "df_new['cluster'].value_counts()"
   ]
  },
  {
   "cell_type": "code",
   "execution_count": 122,
   "metadata": {},
   "outputs": [
    {
     "name": "stdout",
     "output_type": "stream",
     "text": [
      "Top terms per cluster:\n\nCluster 0:  cap  shorts  shirt  pants  jkt\nCluster 0 names:  Active boxer briefs  Print bayonne btm  Lithia skirt  Elias fz sweatshirt  Active mesh bra  S/s stretch t  Wyoming climbing poster  Simply organic polo  Cap graphic crew  Light and variable surf trunks\n\nCluster 1:  shirt  cap  shorts  pants  jkt\nCluster 1 names:  Cap t-shirt  S/s el ray shirt  Baby tag you're it t-shirt  Flying fish t-shirt  ' logo t-shirt  L/s steersman shirt  Runshade t-shirt  Live simply guitar t-shirt  L/s island hopper shirt  S/s a/c shirt\n\nCluster 2:  pants  shorts  shirt  jkt  cap\nCluster 2 names:  Borderless trek zip-off pants  Shop pants  Duck pants  Duck pants  M pants  Solimar pants  Compound cargo pants  Custodian pants  Marlwalker pants  Borderless zip-off pants\n\nCluster 3:  shorts  shirt  pants  jkt  cap\nCluster 3 names:  Girona board shorts  Active boy shorts  Delivery shorts  Paddler board shorts  Meridian board shorts  Baggies shorts  Girl's baggies shorts  Borderless shorts- in.  Continental shorts  Borderless messenger shorts\n\nCluster 4:  jkt  cap  shorts  shirt  pants\nCluster 4 names:  Microburst jkt  Guidewater jkt  Stretch ascent jkt  Better sweater jkt  Guide jkt  Traverse jkt  Storm light jkt  R jkt  Alpine wind jkt  Torrentshell jkt\n\n"
     ]
    }
   ],
   "source": [
    "# Print top terms per cluster and names in the cluster\n",
    "model = KM[0]\n",
    "print(\"Top terms per cluster:\")\n",
    "print\n",
    "order_centroids = model.cluster_centers_.argsort()[:, ::-1]\n",
    "terms = tfidf_vectorizer.get_feature_names()\n",
    "for i in range(5):\n",
    "    print \"Cluster %d:\" % i,\n",
    "    for ind in order_centroids[i, :10]:\n",
    "        print ' %s' % terms[ind],\n",
    "    print\n",
    "    print \"Cluster %d names:\" %i,\n",
    "    for idx in df_new[df_new['cluster'] == i]['name'].sample(n = 10):\n",
    "        print ' %s' %idx,\n",
    "    print\n",
    "    print"
   ]
  },
  {
   "cell_type": "code",
   "execution_count": 97,
   "metadata": {},
   "outputs": [],
   "source": [
    "import matplotlib.pyplot as plt\n",
    "import matplotlib as mpl\n",
    "\n",
    "from sklearn.manifold import MDS\n",
    "\n",
    "MDS()\n",
    "\n",
    "# convert two components as we're plotting points in a two-dimensional plane\n",
    "# \"precomputed\" because we provide a distance matrix\n",
    "mds = MDS(n_components=2, dissimilarity=\"precomputed\", random_state=1)\n",
    "\n",
    "xs, ys = pos[:, 0], pos[:, 1]"
   ]
  },
  {
   "cell_type": "code",
   "execution_count": null,
   "outputs": [],
   "source": [
    ""
   ]
  }
 ],
 "metadata": {
  "kernelspec": {
   "display_name": "Python 2",
   "language": "python",
   "name": "python2"
  },
  "language_info": {
   "codemirror_mode": {
    "name": "ipython",
    "version": 2.0
   },
   "file_extension": ".py",
   "mimetype": "text/x-python",
   "name": "python",
   "nbconvert_exporter": "python",
   "pygments_lexer": "ipython2",
   "version": "2.7.11"
  }
 },
 "nbformat": 4,
 "nbformat_minor": 0
}