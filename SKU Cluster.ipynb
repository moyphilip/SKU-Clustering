{
 "cells": [
  {
   "cell_type": "code",
   "execution_count": 158,
   "metadata": {
    "collapsed": false
   },
   "outputs": [],
   "source": [
    "# import data\n",
    "import os\n",
    "import pandas as pd\n",
    "import re\n",
    "\n",
    "#os.chdir(\"C:\\Users\\Moyp\\Desktop\")\n",
    "\n",
    "df = pd.read_csv('sample-data.csv')"
   ]
  },
  {
   "cell_type": "code",
   "execution_count": 159,
   "metadata": {
    "collapsed": false
   },
   "outputs": [
    {
     "name": "stdout",
     "output_type": "stream",
     "text": [
      "   id                                        description\n0   1  Active classic boxers - There's a reason why o...\n1   2  Active sport boxer briefs - Skinning up Glory ...\n2   3  Active sport briefs - These superbreathable no...\n3   4  Alpine guide pants - Skin in, climb ice, switc...\n4   5  Alpine wind jkt - On high ridges, steep ice an...\n"
     ]
    }
   ],
   "source": [
    "# quick look at data\n",
    "print df.head()"
   ]
  },
  {
   "cell_type": "code",
   "execution_count": 160,
   "metadata": {
    "collapsed": true
   },
   "outputs": [],
   "source": [
    "# remove special characters, numbers, and spaces\n",
    "def remove_characters(sentence):\n",
    "    new_sentence = re.sub(\"</?\\w*>|[\\W]|[\\d]\",' ',sentence)\n",
    "    new_sentence = ' '.join(new_sentence.split())\n",
    "    return new_sentence"
   ]
  },
  {
   "cell_type": "code",
   "execution_count": 161,
   "metadata": {
    "collapsed": true
   },
   "outputs": [],
   "source": [
    "# split description into multiple columns\n",
    "def split_description(string):\n",
    "    # name\n",
    "    string_split = string.split(' - ',1)\n",
    "    name = string_split[0]\n",
    "    name = remove_characters(name)\n",
    "    \n",
    "    # description\n",
    "    string_split = string_split[1].split('<b>Details:')\n",
    "    descrip = string_split[0]\n",
    "    descrip = remove_characters(descrip)\n",
    "    \n",
    "    # details and fabric\n",
    "    string_split = string_split[1].split('<b>Fabric:')\n",
    "    details = string_split[0]\n",
    "    fabric = string_split[1]\n",
    "    details = remove_characters(details)\n",
    "    fabric = remove_characters(fabric)\n",
    "    \n",
    "    return name, descrip, details, fabric"
   ]
  },
  {
   "cell_type": "code",
   "execution_count": 162,
   "metadata": {
    "collapsed": true
   },
   "outputs": [],
   "source": [
    "# new dataframe with new columns\n",
    "foo = lambda x: pd.Series([i for i in split_description(x)])\n",
    "df_new = df.loc[:,'description'].apply(foo)\n",
    "df_new.rename(columns = {0: 'name', 1: 'descrip', 2: 'detail', 3: 'fabric'}, inplace = True)\n",
    "df_new['id'] = df['id']"
   ]
  },
  {
   "cell_type": "code",
   "execution_count": 163,
   "metadata": {
    "collapsed": false
   },
   "outputs": [
    {
     "name": "stdout",
     "output_type": "stream",
     "text": [
      "                        name  \\\n0      Active classic boxers   \n1  Active sport boxer briefs   \n2        Active sport briefs   \n3         Alpine guide pants   \n4            Alpine wind jkt   \n\n                                             descrip  \\\n0  There s a reason why our boxers are a cult fav...   \n1  Skinning up Glory requires enough movement wit...   \n2  These superbreathable no fly briefs are the mi...   \n3  Skin in climb ice switch to rock traverse a kn...   \n4  On high ridges steep ice and anything alpine t...   \n\n                                             details  \\\n0  Silky Capilene fabric is ultralight breathable...   \n1  Stretch mesh provides support open weave mesh ...   \n2  Stretch mesh provides support open weave mesh ...   \n3  Durable stretch woven polyester recycled with ...   \n4  Lightweight breathable polyester ripstop fabri...   \n\n                                              fabric  id  \n0  oz all recycled polyester with Gladiodor natur...   1  \n1  oz polyester recycled spandex with moisture wi...   2  \n2  oz polyester recycled spandex with moisture wi...   3  \n3  oz denier polyester recycled spandex with Delu...   4  \n4  Shell oz denier polyester ripstop Panels oz de...   5  \n"
     ]
    }
   ],
   "source": [
    "print df_new.head()"
   ]
  },
  {
   "cell_type": "code",
   "execution_count": 194,
   "metadata": {
    "collapsed": false
   },
   "outputs": [
    {
     "name": "stdout",
     "output_type": "stream",
     "text": [
      "CPU times: user 9.89 ms, sys: 2.25 ms, total: 12.1 ms\nWall time: 10.2 ms\n(500, 1137)\n"
     ]
    }
   ],
   "source": [
    "# use only name to cluster\n",
    "from sklearn.feature_extraction.text import TfidfVectorizer\n",
    "#define vectorizer parameters\n",
    "\n",
    "tfidf_vectorizer = TfidfVectorizer(\n",
    "                                   use_idf=True,\n",
    "                                   stop_words = 'english',\n",
    "                                   ngram_range=(1,4))\n",
    "\n",
    "%time tfidf_matrix = tfidf_vectorizer.fit_transform(df_new['name'])\n",
    "\n",
    "print(tfidf_matrix.shape)"
   ]
  },
  {
   "cell_type": "code",
   "execution_count": 195,
   "metadata": {
    "collapsed": false
   },
   "outputs": [
    {
     "name": "stdout",
     "output_type": "stream",
     "text": [
      "kamala\nfitz\npuff vest\nsolimar shorts\ntag\nsunshade\norganic ctn jeans short\nlw guide\nel cap\npique\n"
     ]
    }
   ],
   "source": [
    "# take a look at random features\n",
    "import random\n",
    "features = tfidf_vectorizer.get_feature_names()\n",
    "for i in range(0,10):\n",
    "    print features[random.randint(0,len(features))]"
   ]
  },
  {
   "cell_type": "code",
   "execution_count": 196,
   "metadata": {
    "collapsed": false
   },
   "outputs": [
    {
     "name": "stdout",
     "output_type": "stream",
     "text": [
      "CPU times: user 666 ms, sys: 64.9 ms, total: 731 ms\nWall time: 317 ms\n"
     ]
    }
   ],
   "source": [
    "from sklearn.decomposition import TruncatedSVD\n",
    "from sklearn.pipeline import make_pipeline\n",
    "from sklearn.preprocessing import Normalizer\n",
    "\n",
    "svd = TruncatedSVD(tfidf_matrix.shape[1] - 1)\n",
    "lsa = make_pipeline(svd, Normalizer(copy=False))\n",
    "\n",
    "%time train_lsa = lsa.fit_transform(tfidf_matrix)"
   ]
  },
  {
   "cell_type": "code",
   "execution_count": 197,
   "metadata": {
    "collapsed": false
   },
   "outputs": [
    {
     "data": {
      "image/png": "[encoded data removed]",
      "text/plain": [
       "<matplotlib.figure.Figure at 0x10f2ab590>"
      ]
     },
     "metadata": {},
     "output_type": "display_data"
    }
   ],
   "source": [
    "import numpy as np\n",
    "import matplotlib.pyplot as plt\n",
    "%matplotlib inline\n",
    "\n",
    "threshold = .99 # how much variance to keep\n",
    "var_cum = np.cumsum(svd.explained_variance_ratio_)\n",
    "threshold_idx = np.argmax(var_cum > threshold) # threshold index\n",
    "plt.plot(var_cum)\n",
    "plt.ylim(0,1.2)\n",
    "plt.axvline(x = threshold_idx)\n",
    "plt.title('SVD on Names (components = %s)' %threshold_idx)\n",
    "plt.show()"
   ]
  },
  {
   "cell_type": "code",
   "execution_count": 199,
   "metadata": {
    "collapsed": false
   },
   "outputs": [
    {
     "name": "stdout",
     "output_type": "stream",
     "text": [
      "CPU times: user 32.4 s, sys: 3 s, total: 35.4 s\nWall time: 23.5 s\n"
     ]
    }
   ],
   "source": [
    "# use the threshold index components instead because of elbow rule\n",
    "\n",
    "reduced_lsa = train_lsa[:,:threshold_idx]\n",
    "\n",
    "from sklearn.cluster import KMeans\n",
    "\n",
    "num_clusters = range(5,100) # a range of clusters from 5 to 100\n",
    "\n",
    "%time KM = [KMeans(n_clusters=k).fit(reduced_lsa) for k in num_clusters] #train on reduced lsa"
   ]
  },
  {
   "cell_type": "code",
   "execution_count": 200,
   "metadata": {
    "collapsed": false
   },
   "outputs": [
    {
     "data": {
      "image/png": "[encoded data removed]",
      "text/plain": [
       "<matplotlib.figure.Figure at 0x10f2abe10>"
      ]
     },
     "metadata": {},
     "output_type": "display_data"
    }
   ],
   "source": [
    "import matplotlib.pyplot as plt\n",
    "%matplotlib inline\n",
    "# plot the within cluster sum of squares\n",
    "with_in_cluster = [KM[k].inertia_ for k in range(0,len(num_clusters))]\n",
    "plt.plot(num_clusters, with_in_cluster)\n",
    "plt.ylim(min(with_in_cluster)-1000, max(with_in_cluster)+1000)\n",
    "plt.ylabel('with-in cluster sum of squares')\n",
    "plt.xlabel('# of clusters')\n",
    "plt.title('kmeans within ss for k value')\n",
    "plt.show()\n",
    "\n",
    "# plot the within cluster sum of squares and there doesnt seem to be much change from 5 to 100."
   ]
  },
  {
   "cell_type": "code",
   "execution_count": 201,
   "metadata": {},
   "outputs": [],
   "source": [
    "# since change is minimal i will use 5 clusters, let's save it\n",
    "from sklearn.externals import joblib\n",
    "\n",
    "#uncomment the below to save your model \n",
    "#since I've already run my model I am loading from the pickle\n",
    "\n",
    "joblib.dump(KM[0],  'doc_cluster.pkl')\n",
    "\n",
    "km = joblib.load('doc_cluster.pkl')\n",
    "clusters = km.labels_.tolist()"
   ]
  },
  {
   "cell_type": "code",
   "execution_count": 208,
   "metadata": {},
   "outputs": [],
   "source": [
    "# add cluster to df_new\n",
    "df_new['cluster'] = clusters"
   ]
  },
  {
   "cell_type": "code",
   "execution_count": null,
   "outputs": [],
   "source": [
    ""
   ]
  }
 ],
 "metadata": {
  "kernelspec": {
   "display_name": "Python 2",
   "language": "python",
   "name": "python2"
  },
  "language_info": {
   "codemirror_mode": {
    "name": "ipython",
    "version": 2.0
   },
   "file_extension": ".py",
   "mimetype": "text/x-python",
   "name": "python",
   "nbconvert_exporter": "python",
   "pygments_lexer": "ipython2",
   "version": "2.7.11"
  }
 },
 "nbformat": 4,
 "nbformat_minor": 0
}