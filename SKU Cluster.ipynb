{
 "cells": [
  {
   "cell_type": "heading",
   "metadata": {},
   "level": 1,
   "source": [
    "eCommerce Item Clustering with Python"
   ]
  },
  {
   "cell_type": "heading",
   "metadata": {},
   "level": 3,
   "source": [
    "In this notebook I will attempt to cluster eCommerce item data by their names. The type of item data is from an outdoor apparel brand's catalog. I want to be able to use the descriptions to find similar items and group them together. For example, if it's a t-shirt it should belong in the t-shirt group.\n",
    "\n",
    "The steps to accomplish this goal will be:\n",
    "1) Cleaning the data to just include the name (pandas)\n",
    "2) Transform the corpus into vector space using tf-idf (Sci Kit)\n",
    "3) Calculating cosine distance between each document as a measure of similarity\n",
    "4) Cluster the documents with k-means (Sci Kit)\n",
    "5) Use MDS to reduce the dimension\n",
    "6) Plot the clusters (matplotlib)\n",
    "\n",
    "\n",
    "The dataset consists of 500 actual SKUs from an outdoor apparel brand's product catalog downloaded from Kaggle (https://www.kaggle.com/cclark/product-item-data). \n"
   ]
  },
  {
   "cell_type": "heading",
   "metadata": {},
   "level": 2,
   "source": [
    "Cleaning the data"
   ]
  },
  {
   "cell_type": "code",
   "execution_count": 2,
   "metadata": {
    "collapsed": false
   },
   "outputs": [],
   "source": [
    "# import the necessary packages for cleaning the data\n",
    "import os\n",
    "import pandas as pd\n",
    "import re\n",
    "import numpy as np\n",
    "\n",
    "# read the data\n",
    "df = pd.read_csv('sample-data.csv')"
   ]
  },
  {
   "cell_type": "code",
   "execution_count": 3,
   "metadata": {
    "collapsed": false
   },
   "outputs": [
    {
     "name": "stdout",
     "output_type": "stream",
     "text": [
      "   id                                        description\n0   1  Active classic boxers - There's a reason why o...\n1   2  Active sport boxer briefs - Skinning up Glory ...\n2   3  Active sport briefs - These superbreathable no...\n3   4  Alpine guide pants - Skin in, climb ice, switc...\n4   5  Alpine wind jkt - On high ridges, steep ice an...\n"
     ]
    }
   ],
   "source": [
    "# A quick look at the data. There are 2 columns, id and description. \n",
    "print df.head()"
   ]
  },
  {
   "cell_type": "code",
   "execution_count": 4,
   "metadata": {},
   "outputs": [
    {
     "name": "stdout",
     "output_type": "stream",
     "text": [
      "Ascensionist jkt - Our most technical soft shell for full-on mountain pursuits strikes the alpinist's balance between protection and minimalism. The dense 2-way-stretch polyester double weave, with stitchless seams, has exceptional water- and wind-resistance, a rapid dry time and superb breathability. Pared-down detailing provides everything you need and nothing more: a 3-way-adjustable, helmet-compatible hood; a reverse-coil center-front zipper with a DWR (durable water repellent) finish; large external handwarmer pockets (with zipper garages) that are placed above the harness-line; an internal security pocket; articulated arms; self-fabic cuff tabs; a drawcord hem. Recyclable through the Common Threads Recycling Program.<br><br><b>Details:</b><ul> <li>\"Dense stretchy polyester double-weave fabric is exceptionally water- and wind-resistant and is spandex-free for fast dry times; Stitch-free, lap-glued seams speed dry time, improve water resistance and decrease bulk\"</li> <li>\"Helmet-compatible, 3-way-adjustable hood;  brushed chamois patches for chin and neck comfort\"</li> <li>DWR-(durable water repellent) finished center-front zipper; external pockets: two handwarmers fit skins and have zipper garages and DWR finish on zippers</li> <li>Internal security pocket</li> <li>Articulated arms</li> <li>\"Low-profile, laminated, self-fabric cuff tabs\"</li> <li>Drawcord hem</li></ul><br><br><b>Fabric: </b>5.3-oz 100% polyester (45% recycled) double weave with 2-way-stretch and Deluge DWR finish. Recyclable through the Common Threads Recycling Program<br><br><b>Weight: </b>(553 g 19.2 oz)<br><br>Made in China.\n"
     ]
    }
   ],
   "source": [
    "# Let's take a closer look at the description and what it has. It starts off with the name then a long description then ending with material detail.\n",
    "# I am only interested in the name for this project so I will separate it out.\n",
    "print df['description'][5]"
   ]
  },
  {
   "cell_type": "code",
   "execution_count": 5,
   "metadata": {
    "collapsed": true
   },
   "outputs": [],
   "source": [
    "# slices the description returning only the name\n",
    "def split_description(string):\n",
    "    # name\n",
    "    string_split = string.split(' - ',1)\n",
    "    name = string_split[0]\n",
    "    \n",
    "    return name"
   ]
  },
  {
   "cell_type": "code",
   "execution_count": 22,
   "metadata": {
    "collapsed": true
   },
   "outputs": [],
   "source": [
    "# let's put the clean data into a new data frame\n",
    "df_new = pd.DataFrame()\n",
    "df_new['name'] = df.loc[:,'description'].apply(lambda x: split_description(x))\n",
    "df_new['id'] = df['id']"
   ]
  },
  {
   "cell_type": "code",
   "execution_count": 40,
   "metadata": {
    "collapsed": true
   },
   "outputs": [],
   "source": [
    "# remove numbers and extra spaces from the name\n",
    "def remove(name):\n",
    "    new_name = re.sub(\"[0-9]\", '', name)\n",
    "    new_name = ' '.join(new_name.split())\n",
    "    return new_name"
   ]
  },
  {
   "cell_type": "code",
   "execution_count": 44,
   "metadata": {},
   "outputs": [],
   "source": [
    "# let's remove the numbers and extra spaces from the name\n",
    "df_new['name'] = df_new.loc[:,'name'].apply(lambda x: remove(x))"
   ]
  },
  {
   "cell_type": "code",
   "execution_count": 45,
   "metadata": {},
   "outputs": [
    {
     "data": {
      "text/html": [
       "<div>\n",
       "<table border=\"1\" class=\"dataframe\">\n",
       "  <thead>\n",
       "    <tr style=\"text-align: right;\">\n",
       "      <th></th>\n",
       "      <th>name</th>\n",
       "      <th>id</th>\n",
       "    </tr>\n",
       "  </thead>\n",
       "  <tbody>\n",
       "    <tr>\n",
       "      <th>0</th>\n",
       "      <td>Active classic boxers</td>\n",
       "      <td>1</td>\n",
       "    </tr>\n",
       "    <tr>\n",
       "      <th>1</th>\n",
       "      <td>Active sport boxer briefs</td>\n",
       "      <td>2</td>\n",
       "    </tr>\n",
       "    <tr>\n",
       "      <th>2</th>\n",
       "      <td>Active sport briefs</td>\n",
       "      <td>3</td>\n",
       "    </tr>\n",
       "    <tr>\n",
       "      <th>3</th>\n",
       "      <td>Alpine guide pants</td>\n",
       "      <td>4</td>\n",
       "    </tr>\n",
       "    <tr>\n",
       "      <th>4</th>\n",
       "      <td>Alpine wind jkt</td>\n",
       "      <td>5</td>\n",
       "    </tr>\n",
       "  </tbody>\n",
       "</table>\n",
       "</div>"
      ],
      "text/plain": [
       "<div>\n",
       "<table border=\"1\" class=\"dataframe\">\n",
       "  <thead>\n",
       "    <tr style=\"text-align: right;\">\n",
       "      <th></th>\n",
       "      <th>name</th>\n",
       "      <th>id</th>\n",
       "    </tr>\n",
       "  </thead>\n",
       "  <tbody>\n",
       "    <tr>\n",
       "      <th>0</th>\n",
       "      <td>Active classic boxers</td>\n",
       "      <td>1</td>\n",
       "    </tr>\n",
       "    <tr>\n",
       "      <th>1</th>\n",
       "      <td>Active sport boxer briefs</td>\n",
       "      <td>2</td>\n",
       "    </tr>\n",
       "    <tr>\n",
       "      <th>2</th>\n",
       "      <td>Active sport briefs</td>\n",
       "      <td>3</td>\n",
       "    </tr>\n",
       "    <tr>\n",
       "      <th>3</th>\n",
       "      <td>Alpine guide pants</td>\n",
       "      <td>4</td>\n",
       "    </tr>\n",
       "    <tr>\n",
       "      <th>4</th>\n",
       "      <td>Alpine wind jkt</td>\n",
       "      <td>5</td>\n",
       "    </tr>\n",
       "  </tbody>\n",
       "</table>\n",
       "</div>"
      ]
     },
     "execution_count": 45,
     "metadata": {},
     "output_type": "execute_result"
    }
   ],
   "source": [
    "# now the data is all nice and clean\n",
    "df_new.head()"
   ]
  },
  {
   "cell_type": "code",
   "execution_count": 359,
   "metadata": {
    "collapsed": false
   },
   "outputs": [
    {
     "name": "stdout",
     "output_type": "stream",
     "text": [
      "CPU times: user 9.02 ms, sys: 1.62 ms, total: 10.6 ms\nWall time: 9.25 ms\n(500, 5)\n"
     ]
    }
   ],
   "source": [
    "# use only name to cluster\n",
    "from sklearn.feature_extraction.text import TfidfVectorizer\n",
    "#define vectorizer parameters\n",
    "\n",
    "tfidf_vectorizer = TfidfVectorizer(\n",
    "                                   use_idf=True,\n",
    "                                   stop_words = 'english',\n",
    "                                   ngram_range=(1,4), min_df = 0.05, max_df = 0.8)\n",
    "\n",
    "%time tfidf_matrix = tfidf_vectorizer.fit_transform(df_new['name'])\n",
    "\n",
    "print(tfidf_matrix.shape)"
   ]
  },
  {
   "cell_type": "code",
   "execution_count": 348,
   "metadata": {},
   "outputs": [
    {
     "data": {
      "text/plain": [
       "[u'cap', u'jkt', u'pants', u'shirt', u'shorts']"
      ]
     },
     "execution_count": 348,
     "metadata": {},
     "output_type": "execute_result"
    }
   ],
   "source": [
    "tfidf_vectorizer.get_feature_names()"
   ]
  },
  {
   "cell_type": "code",
   "execution_count": 349,
   "metadata": {
    "collapsed": false
   },
   "outputs": [
    {
     "name": "stdout",
     "output_type": "stream",
     "text": [
      "pants\njkt\nshorts\nshirt\ncap\npants\nshirt\nshorts\npants\n"
     ]
    },
    {
     "ename": "IndexError",
     "evalue": "list index out of range",
     "traceback": [
      "\u001b[0;31m---------------------------------------------------------------------------\u001b[0m",
      "\u001b[0;31mIndexError\u001b[0m                                Traceback (most recent call last)",
      "\u001b[0;32m<ipython-input-349-91a1725a28d2>\u001b[0m in \u001b[0;36m<module>\u001b[0;34m()\u001b[0m\n\u001b[1;32m      3\u001b[0m \u001b[0mfeatures\u001b[0m \u001b[0;34m=\u001b[0m \u001b[0mtfidf_vectorizer\u001b[0m\u001b[0;34m.\u001b[0m\u001b[0mget_feature_names\u001b[0m\u001b[0;34m(\u001b[0m\u001b[0;34m)\u001b[0m\u001b[0;34m\u001b[0m\u001b[0m\n\u001b[1;32m      4\u001b[0m \u001b[0;32mfor\u001b[0m \u001b[0mi\u001b[0m \u001b[0;32min\u001b[0m \u001b[0mrange\u001b[0m\u001b[0;34m(\u001b[0m\u001b[0;36m0\u001b[0m\u001b[0;34m,\u001b[0m\u001b[0;36m10\u001b[0m\u001b[0;34m)\u001b[0m\u001b[0;34m:\u001b[0m\u001b[0;34m\u001b[0m\u001b[0m\n\u001b[0;32m----> 5\u001b[0;31m     \u001b[0;32mprint\u001b[0m \u001b[0mfeatures\u001b[0m\u001b[0;34m[\u001b[0m\u001b[0mrandom\u001b[0m\u001b[0;34m.\u001b[0m\u001b[0mrandint\u001b[0m\u001b[0;34m(\u001b[0m\u001b[0;36m0\u001b[0m\u001b[0;34m,\u001b[0m\u001b[0mlen\u001b[0m\u001b[0;34m(\u001b[0m\u001b[0mfeatures\u001b[0m\u001b[0;34m)\u001b[0m\u001b[0;34m)\u001b[0m\u001b[0;34m]\u001b[0m\u001b[0;34m\u001b[0m\u001b[0m\n\u001b[0m",
      "\u001b[0;31mIndexError\u001b[0m: list index out of range"
     ],
     "output_type": "error"
    }
   ],
   "source": [
    "# take a look at random features\n",
    "import random\n",
    "features = tfidf_vectorizer.get_feature_names()\n",
    "for i in range(0,10):\n",
    "    print features[random.randint(0,len(features))]"
   ]
  },
  {
   "cell_type": "code",
   "execution_count": 350,
   "metadata": {},
   "outputs": [
    {
     "name": "stdout",
     "output_type": "stream",
     "text": [
      "[[ 1.  1.  1. ...,  1.  1.  1.]\n [ 1.  1.  1. ...,  1.  1.  1.]\n [ 1.  1.  1. ...,  1.  1.  1.]\n ..., \n [ 1.  1.  1. ...,  1.  1.  1.]\n [ 1.  1.  1. ...,  1.  0.  0.]\n [ 1.  1.  1. ...,  1.  0.  0.]]\n"
     ]
    }
   ],
   "source": [
    "# cosine similarity between each document\n",
    "from sklearn.metrics.pairwise import cosine_similarity\n",
    "dist = 1.0 - cosine_similarity(tfidf_matrix)\n",
    "print dist"
   ]
  },
  {
   "cell_type": "code",
   "execution_count": 351,
   "metadata": {},
   "outputs": [
    {
     "name": "stdout",
     "output_type": "stream",
     "text": [
      "CPU times: user 1.87 s, sys: 6.59 ms, total: 1.87 s\nWall time: 1.87 s\n"
     ]
    }
   ],
   "source": [
    "# fit kmeans with a range of clusters from 5 to 20. \n",
    "from sklearn.cluster import KMeans\n",
    "num_clusters = range(1,20) # a range of clusters from 5 to 20\n",
    "\n",
    "%time KM = [KMeans(n_clusters=k, random_state = 1).fit(tfidf_matrix) for k in num_clusters] #train on tdidf matrix"
   ]
  },
  {
   "cell_type": "code",
   "execution_count": 352,
   "metadata": {},
   "outputs": [
    {
     "data": {
      "image/png": "[encoded data removed]",
      "text/plain": [
       "<matplotlib.figure.Figure at 0x10c27f190>"
      ]
     },
     "metadata": {},
     "output_type": "display_data"
    }
   ],
   "source": [
    "# let's plot the within cluster sum of squares for each cluster # to see which k we should choose\n",
    "import matplotlib.pyplot as plt\n",
    "%matplotlib inline\n",
    "# plot the within cluster sum of squares\n",
    "with_in_cluster = [KM[k].inertia_ for k in range(0,len(num_clusters))]\n",
    "plt.plot(num_clusters, with_in_cluster)\n",
    "plt.ylim(min(with_in_cluster)-1000, max(with_in_cluster)+1000)\n",
    "plt.ylabel('with-in cluster sum of squares')\n",
    "plt.xlabel('# of clusters')\n",
    "plt.title('kmeans within ss for k value')\n",
    "plt.show()\n",
    "\n",
    "# plot the within cluster sum of squares and there doesnt seem to be much change from 5 to 100."
   ]
  },
  {
   "cell_type": "code",
   "execution_count": 353,
   "metadata": {},
   "outputs": [
    {
     "data": {
      "text/plain": [
       "0    266\n1     99\n2     46\n4     45\n3     44\ndtype: int64"
      ]
     },
     "execution_count": 353,
     "metadata": {},
     "output_type": "execute_result"
    }
   ],
   "source": [
    "# clusters of KM[0] to list\n",
    "clusters = KM[4].labels_.tolist()\n",
    "# add cluster to df_new\n",
    "df_new['cluster'] = clusters\n",
    "# number of items per cluster\n",
    "df_new['cluster'].value_counts()"
   ]
  },
  {
   "cell_type": "code",
   "execution_count": 354,
   "metadata": {},
   "outputs": [
    {
     "name": "stdout",
     "output_type": "stream",
     "text": [
      "Top terms per cluster:\n\nCluster 0:  cap  shorts  shirt  pants  jkt\nCluster 0 names:  Merino bottoms  Inga shortie  Solid adour btm  Surf sneaker  Merino crew  All-time shell  Cap crew  Watermaster waders  Sub divider  L/s rashguard\n\nCluster 1:  shirt  cap  shorts  pants  jkt\nCluster 1 names:  Fezzman shirt  Three trees shirt  Live simply guitar t-shirt  ' logo t-shirt  Drift shirt  Butterfly logo t-shirt  Bouquet t-shirt  Permit silhouette t-shirt  Girl's live simply seal t-shirt  Cap graphic t-shirt\n\nCluster 2:  pants  shorts  shirt  jkt  cap\nCluster 2 names:  Rain shadow pants  Compound cargo pants  Duck pants  Torrentshell pants  Retro grade pants  Shelled insulator pants  Vitalti pants  Custodian pants  Guidewater pants  Rock guide pants\n\nCluster 3:  shorts  shirt  pants  jkt  cap\nCluster 3 names:  Continental shorts  Borderless shorts- in.  River shorts  Borderless gi shorts  Cotton board shorts  Baggies shorts  Wavefarer board shorts  Ultra shorts  Girl's boardie shorts  Minimalist board shorts- in.\n\nCluster 4:  jkt  cap  shorts  shirt  pants\nCluster 4 names:  Houdini full-zip jkt  Deep wading jkt  Rain shadow jkt  Better sweater jkt  Nine trails jkt  Torrentshell jkt  Guide jkt  El cap jkt  R jkt  Stretch ascent jkt\n\n"
     ]
    }
   ],
   "source": [
    "# Print top terms per cluster and names in the cluster\n",
    "model = KM[4]\n",
    "print(\"Top terms per cluster:\")\n",
    "print\n",
    "order_centroids = model.cluster_centers_.argsort()[:, ::-1]\n",
    "terms = tfidf_vectorizer.get_feature_names()\n",
    "for i in range(model.n_clusters):\n",
    "    print \"Cluster %d:\" % i,\n",
    "    for ind in order_centroids[i, :10]:\n",
    "        print ' %s' % terms[ind],\n",
    "    print\n",
    "    print \"Cluster %d names:\" %i,\n",
    "    for idx in df_new[df_new['cluster'] == i]['name'].sample(n = 10):\n",
    "        print ' %s' %idx,\n",
    "    print\n",
    "    print"
   ]
  },
  {
   "cell_type": "code",
   "execution_count": 355,
   "metadata": {},
   "outputs": [],
   "source": [
    "import matplotlib.pyplot as plt\n",
    "import matplotlib as mpl\n",
    "\n",
    "from sklearn.manifold import MDS\n",
    "\n",
    "MDS()\n",
    "\n",
    "# convert two components as we're plotting points in a two-dimensional plane\n",
    "# \"precomputed\" because we provide a distance matrix\n",
    "mds = MDS(n_components=2, dissimilarity=\"precomputed\", random_state=1)\n",
    "\n",
    "xs, ys = pos[:, 0], pos[:, 1]"
   ]
  },
  {
   "cell_type": "code",
   "execution_count": 376,
   "metadata": {},
   "outputs": [
    {
     "data": {
      "image/png": "[encoded data removed]",
      "text/plain": [
       "<matplotlib.figure.Figure at 0x10cbd7850>"
      ]
     },
     "metadata": {},
     "output_type": "display_data"
    }
   ],
   "source": [
    "cluster_colors = {0: '#33FF49', 1: '#FF0000', 2: '#800000', 3: '#FFFF00', 4: '#6033FF'}\n",
    "cluster_labels = {0: 'cap', 1: 'shirt', 2: 'pants', 3: 'shorts', 4: 'jkt'}\n",
    "\n",
    "#some ipython magic to show the matplotlib plots inline\n",
    "%matplotlib inline \n",
    "\n",
    "#create data frame that has the result of the MDS plus the cluster numbers and titles\n",
    "df_plot = pd.DataFrame(dict(x=xs, y=ys, label=clusters, name=df_new['name'])) \n",
    "\n",
    "#group by cluster\n",
    "groups = df_plot.groupby('label')\n",
    "\n",
    "# set up plot\n",
    "fig, ax = plt.subplots(figsize=(17, 9)) # set size\n",
    "\n",
    "#iterate through groups to layer the plot\n",
    "#note that I use the cluster_name and cluster_color dicts with the 'name' lookup to return the appropriate color/label\n",
    "for name, group in groups:\n",
    "    ax.plot(group.x, group.y, marker='o', linestyle='', ms=12, label = cluster_labels[name], color = cluster_colors[name], \n",
    "            mec='none')\n",
    "    #ax.set_aspect('auto')\n",
    "    ax.tick_params(\\\n",
    "        axis= 'x',          # changes apply to the x-axis\n",
    "        which='both',      # both major and minor ticks are affected\n",
    "        bottom='off',      # ticks along the bottom edge are off\n",
    "        top='off',         # ticks along the top edge are off\n",
    "        labelbottom='off')\n",
    "    ax.tick_params(\\\n",
    "        axis= 'y',         # changes apply to the y-axis\n",
    "        which='both',      # both major and minor ticks are affected\n",
    "        left='off',      # ticks along the bottom edge are off\n",
    "        top='off',         # ticks along the top edge are off\n",
    "        labelleft='off')\n",
    "    \n",
    "ax.legend(numpoints = 1)  #show legend with only 1 point\n",
    "\n",
    "fig.suptitle(\"SKU Clustering\", fontsize = 35, fontweight = 'bold')\n",
    "\n",
    "plt.show()\n"
   ]
  }
 ],
 "metadata": {
  "kernelspec": {
   "display_name": "Python 2",
   "language": "python",
   "name": "python2"
  },
  "language_info": {
   "codemirror_mode": {
    "name": "ipython",
    "version": 2.0
   },
   "file_extension": ".py",
   "mimetype": "text/x-python",
   "name": "python",
   "nbconvert_exporter": "python",
   "pygments_lexer": "ipython2",
   "version": "2.7.11"
  }
 },
 "nbformat": 4,
 "nbformat_minor": 0
}