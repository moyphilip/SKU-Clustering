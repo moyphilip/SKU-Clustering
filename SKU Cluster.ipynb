{
 "cells": [
  {
   "cell_type": "code",
   "execution_count": 10,
   "metadata": {
    "collapsed": true
   },
   "outputs": [],
   "source": [
    "# import data\n",
    "import os\n",
    "import pandas as pd\n",
    "import re\n",
    "\n",
    "df = pd.read_csv('sample-data.csv')"
   ]
  },
  {
   "cell_type": "code",
   "execution_count": 34,
   "metadata": {
    "collapsed": false
   },
   "outputs": [
    {
     "name": "stdout",
     "output_type": "stream",
     "text": [
      "   id                                        description\n0   1  Active classic boxers - There's a reason why o...\n1   2  Active sport boxer briefs - Skinning up Glory ...\n2   3  Active sport briefs - These superbreathable no...\n3   4  Alpine guide pants - Skin in, climb ice, switc...\n4   5  Alpine wind jkt - On high ridges, steep ice an...\n"
     ]
    }
   ],
   "source": [
    "# quick look at data\n",
    "print df.head()"
   ]
  },
  {
   "cell_type": "code",
   "execution_count": 143,
   "metadata": {},
   "outputs": [],
   "source": [
    "# remove special characters, numbers, and spaces\n",
    "def remove_characters(sentence):\n",
    "    new_sentence = re.sub(\"</?\\w*>|[\\W]|[\\d]\",' ',sentence)\n",
    "    new_sentence = ' '.join(new_sentence.split())\n",
    "    return new_sentence"
   ]
  },
  {
   "cell_type": "code",
   "execution_count": 139,
   "metadata": {
    "collapsed": true
   },
   "outputs": [],
   "source": [
    "# split description into multiple columns\n",
    "def split_description(string):\n",
    "    # name\n",
    "    string_split = string.split(' - ',1)\n",
    "    name = string_split[0]\n",
    "    name = remove_characters(name)\n",
    "    \n",
    "    # description\n",
    "    string_split = string_split[1].split('<b>Details:')\n",
    "    descrip = string_split[0]\n",
    "    descrip = remove_characters(descrip)\n",
    "    \n",
    "    # details and fabric\n",
    "    string_split = string_split[1].split('<b>Fabric:')\n",
    "    details = string_split[0]\n",
    "    fabric = string_split[1]\n",
    "    details = remove_characters(details)\n",
    "    fabric = remove_characters(fabric)\n",
    "    \n",
    "    return name, descrip, details, fabric"
   ]
  },
  {
   "cell_type": "code",
   "execution_count": 144,
   "metadata": {},
   "outputs": [],
   "source": [
    "# new dataframe with new columns\n",
    "foo = lambda x: pd.Series([i for i in split_description(x)])\n",
    "df_new = df.loc[:,'description'].apply(foo)\n",
    "df_new.rename(columns = {0: 'name', 1: 'descrip', 2: 'details', 3: 'fabric'}, inplace = True)\n",
    "df_new['id'] = df['id']"
   ]
  },
  {
   "cell_type": "code",
   "execution_count": 145,
   "metadata": {},
   "outputs": [
    {
     "name": "stdout",
     "output_type": "stream",
     "text": [
      "                        name  \\\n0      Active classic boxers   \n1  Active sport boxer briefs   \n2        Active sport briefs   \n3         Alpine guide pants   \n4            Alpine wind jkt   \n\n                                             descrip  \\\n0  There s a reason why our boxers are a cult fav...   \n1  Skinning up Glory requires enough movement wit...   \n2  These superbreathable no fly briefs are the mi...   \n3  Skin in climb ice switch to rock traverse a kn...   \n4  On high ridges steep ice and anything alpine t...   \n\n                                             details  \\\n0  Silky Capilene fabric is ultralight breathable...   \n1  Stretch mesh provides support open weave mesh ...   \n2  Stretch mesh provides support open weave mesh ...   \n3  Durable stretch woven polyester recycled with ...   \n4  Lightweight breathable polyester ripstop fabri...   \n\n                                              fabric  id  \n0  oz all recycled polyester with Gladiodor natur...   1  \n1  oz polyester recycled spandex with moisture wi...   2  \n2  oz polyester recycled spandex with moisture wi...   3  \n3  oz denier polyester recycled spandex with Delu...   4  \n4  Shell oz denier polyester ripstop Panels oz de...   5  \n"
     ]
    }
   ],
   "source": [
    "print df_new.head()"
   ]
  },
  {
   "cell_type": "code",
   "execution_count": 147,
   "metadata": {},
   "outputs": [
    {
     "name": "stdout",
     "output_type": "stream",
     "text": [
      "CPU times: user 8.62 ms, sys: 2.43 ms, total: 11.1 ms\nWall time: 9.09 ms\n(500, 763)\n"
     ]
    }
   ],
   "source": [
    "# use only name to cluster\n",
    "from sklearn.feature_extraction.text import TfidfVectorizer\n",
    "#define vectorizer parameters\n",
    "\n",
    "tfidf_vectorizer = TfidfVectorizer(use_idf=True,\n",
    "                                   stop_words = 'english',\n",
    "                                   ngram_range=(2,4))\n",
    "\n",
    "%time tfidf_matrix = tfidf_vectorizer.fit_transform(df_new['name'])\n",
    "\n",
    "print(tfidf_matrix.shape)"
   ]
  }
 ],
 "metadata": {
  "kernelspec": {
   "display_name": "Python 2",
   "language": "python",
   "name": "python2"
  },
  "language_info": {
   "codemirror_mode": {
    "name": "ipython",
    "version": 2.0
   },
   "file_extension": ".py",
   "mimetype": "text/x-python",
   "name": "python",
   "nbconvert_exporter": "python",
   "pygments_lexer": "ipython2",
   "version": "2.7.11"
  }
 },
 "nbformat": 4,
 "nbformat_minor": 0
}