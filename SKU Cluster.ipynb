{
 "cells": [
  {
   "cell_type": "code",
   "execution_count": 2,
   "metadata": {
    "collapsed": false
   },
   "outputs": [],
   "source": [
    "# import data\n",
    "import os\n",
    "import pandas as pd\n",
    "import re\n",
    "\n",
    "os.chdir(\"C:\\Users\\Moyp\\Desktop\")\n",
    "\n",
    "df = pd.read_csv('sample-data.csv')"
   ]
  },
  {
   "cell_type": "code",
   "execution_count": 3,
   "metadata": {
    "collapsed": false
   },
   "outputs": [
    {
     "name": "stdout",
     "output_type": "stream",
     "text": [
      "   id                                        description\n",
      "0   1  Active classic boxers - There's a reason why o...\n",
      "1   2  Active sport boxer briefs - Skinning up Glory ...\n",
      "2   3  Active sport briefs - These superbreathable no...\n",
      "3   4  Alpine guide pants - Skin in, climb ice, switc...\n",
      "4   5  Alpine wind jkt - On high ridges, steep ice an...\n"
     ]
    }
   ],
   "source": [
    "# quick look at data\n",
    "print df.head()"
   ]
  },
  {
   "cell_type": "code",
   "execution_count": 4,
   "metadata": {
    "collapsed": true
   },
   "outputs": [],
   "source": [
    "# remove special characters, numbers, and spaces\n",
    "def remove_characters(sentence):\n",
    "    new_sentence = re.sub(\"</?\\w*>|[\\W]|[\\d]\",' ',sentence)\n",
    "    new_sentence = ' '.join(new_sentence.split())\n",
    "    return new_sentence"
   ]
  },
  {
   "cell_type": "code",
   "execution_count": 5,
   "metadata": {
    "collapsed": true
   },
   "outputs": [],
   "source": [
    "# split description into multiple columns\n",
    "def split_description(string):\n",
    "    # name\n",
    "    string_split = string.split(' - ',1)\n",
    "    name = string_split[0]\n",
    "    name = remove_characters(name)\n",
    "    \n",
    "    # description\n",
    "    string_split = string_split[1].split('<b>Details:')\n",
    "    descrip = string_split[0]\n",
    "    descrip = remove_characters(descrip)\n",
    "    \n",
    "    # details and fabric\n",
    "    string_split = string_split[1].split('<b>Fabric:')\n",
    "    details = string_split[0]\n",
    "    fabric = string_split[1]\n",
    "    details = remove_characters(details)\n",
    "    fabric = remove_characters(fabric)\n",
    "    \n",
    "    return name, descrip, details, fabric"
   ]
  },
  {
   "cell_type": "code",
   "execution_count": 6,
   "metadata": {
    "collapsed": true
   },
   "outputs": [],
   "source": [
    "# new dataframe with new columns\n",
    "foo = lambda x: pd.Series([i for i in split_description(x)])\n",
    "df_new = df.loc[:,'description'].apply(foo)\n",
    "df_new.rename(columns = {0: 'name', 1: 'descrip', 2: 'details', 3: 'fabric'}, inplace = True)\n",
    "df_new['id'] = df['id']"
   ]
  },
  {
   "cell_type": "code",
   "execution_count": 7,
   "metadata": {
    "collapsed": false
   },
   "outputs": [
    {
     "name": "stdout",
     "output_type": "stream",
     "text": [
      "                        name  \\\n",
      "0      Active classic boxers   \n",
      "1  Active sport boxer briefs   \n",
      "2        Active sport briefs   \n",
      "3         Alpine guide pants   \n",
      "4            Alpine wind jkt   \n",
      "\n",
      "                                             descrip  \\\n",
      "0  There s a reason why our boxers are a cult fav...   \n",
      "1  Skinning up Glory requires enough movement wit...   \n",
      "2  These superbreathable no fly briefs are the mi...   \n",
      "3  Skin in climb ice switch to rock traverse a kn...   \n",
      "4  On high ridges steep ice and anything alpine t...   \n",
      "\n",
      "                                             details  \\\n",
      "0  Silky Capilene fabric is ultralight breathable...   \n",
      "1  Stretch mesh provides support open weave mesh ...   \n",
      "2  Stretch mesh provides support open weave mesh ...   \n",
      "3  Durable stretch woven polyester recycled with ...   \n",
      "4  Lightweight breathable polyester ripstop fabri...   \n",
      "\n",
      "                                              fabric  id  \n",
      "0  oz all recycled polyester with Gladiodor natur...   1  \n",
      "1  oz polyester recycled spandex with moisture wi...   2  \n",
      "2  oz polyester recycled spandex with moisture wi...   3  \n",
      "3  oz denier polyester recycled spandex with Delu...   4  \n",
      "4  Shell oz denier polyester ripstop Panels oz de...   5  \n"
     ]
    }
   ],
   "source": [
    "print df_new.head()"
   ]
  },
  {
   "cell_type": "code",
   "execution_count": 8,
   "metadata": {
    "collapsed": false
   },
   "outputs": [
    {
     "name": "stdout",
     "output_type": "stream",
     "text": [
      "Wall time: 42 ms\n",
      "(500, 763)\n"
     ]
    }
   ],
   "source": [
    "# use only name to cluster\n",
    "from sklearn.feature_extraction.text import TfidfVectorizer\n",
    "#define vectorizer parameters\n",
    "\n",
    "tfidf_vectorizer = TfidfVectorizer(use_idf=True,\n",
    "                                   stop_words = 'english',\n",
    "                                   ngram_range=(2,4))\n",
    "\n",
    "%time tfidf_matrix = tfidf_vectorizer.fit_transform(df_new['name'])\n",
    "\n",
    "print(tfidf_matrix.shape)"
   ]
  },
  {
   "cell_type": "code",
   "execution_count": 9,
   "metadata": {
    "collapsed": false
   },
   "outputs": [
    {
     "name": "stdout",
     "output_type": "stream",
     "text": [
      "nano puff\n",
      "pique vitaliti polo\n",
      "cotton tank dress\n",
      "merino shirt\n",
      "zip pants\n",
      "alpine wind\n",
      "nano puff\n",
      "crew liner socks\n",
      "hemp skirt\n",
      "aravis zip\n"
     ]
    }
   ],
   "source": [
    "# take a look at random features\n",
    "import random\n",
    "features = tfidf_vectorizer.get_feature_names()\n",
    "for i in range(0,10):\n",
    "    print features[random.randint(0,len(features))]"
   ]
  },
  {
   "cell_type": "code",
   "execution_count": 10,
   "metadata": {
    "collapsed": false
   },
   "outputs": [
    {
     "name": "stdout",
     "output_type": "stream",
     "text": [
      "Wall time: 1.13 s\n"
     ]
    }
   ],
   "source": [
    "from sklearn.decomposition import TruncatedSVD\n",
    "from sklearn.pipeline import make_pipeline\n",
    "from sklearn.preprocessing import Normalizer\n",
    "\n",
    "svd = TruncatedSVD(tfidf_matrix.shape[1] - 1)\n",
    "lsa = make_pipeline(svd, Normalizer(copy=False))\n",
    "\n",
    "%time train_lsa = lsa.fit_transform(tfidf_matrix)"
   ]
  },
  {
   "cell_type": "code",
   "execution_count": 28,
   "metadata": {
    "collapsed": false
   },
   "outputs": [
    {
     "data": {
      "image/png": "[encoded data removed]",
      "text/plain": [
       "<matplotlib.figure.Figure at 0xa81c8d0>"
      ]
     },
     "metadata": {},
     "output_type": "display_data"
    }
   ],
   "source": [
    "import numpy as np\n",
    "import matplotlib.pyplot as plt\n",
    "%matplotlib inline\n",
    "\n",
    "threshold = 1 # how much variance to keep\n",
    "var_cum = np.cumsum(svd.explained_variance_ratio_)\n",
    "threshold_idx = np.argmax(var_cum > threshold) # threshold index\n",
    "plt.plot(var_cum)\n",
    "plt.axvline(x = threshold_idx)\n",
    "plt.title('SVD on Names (components = %s)' %threshold_idx)\n",
    "plt.show()"
   ]
  },
  {
   "cell_type": "code",
   "execution_count": 40,
   "metadata": {
    "collapsed": false
   },
   "outputs": [],
   "source": [
    "svd_test = TruncatedSVD(600)\n",
    "lsa_test = make_pipeline(svd_test, Normalizer(copy=False))\n",
    "train_lsa_test = lsa_test.fit_transform(tfidf_matrix)"
   ]
  },
  {
   "cell_type": "code",
   "execution_count": 41,
   "metadata": {
    "collapsed": false
   },
   "outputs": [
    {
     "data": {
      "text/plain": [
       "(500L, 500L)"
      ]
     },
     "execution_count": 41,
     "metadata": {},
     "output_type": "execute_result"
    }
   ],
   "source": [
    "train_lsa_test.shape"
   ]
  }
 ],
 "metadata": {
  "kernelspec": {
   "display_name": "Python 2",
   "language": "python",
   "name": "python2"
  },
  "language_info": {
   "codemirror_mode": {
    "name": "ipython",
    "version": 2
   },
   "file_extension": ".py",
   "mimetype": "text/x-python",
   "name": "python",
   "nbconvert_exporter": "python",
   "pygments_lexer": "ipython2",
   "version": "2.7.11"
  }
 },
 "nbformat": 4,
 "nbformat_minor": 0
}
